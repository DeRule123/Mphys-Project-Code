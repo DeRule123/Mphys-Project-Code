{
 "cells": [
  {
   "cell_type": "markdown",
   "metadata": {},
   "source": [
    "# Reformatting Merger Trees for GAMMA"
   ]
  },
  {
   "cell_type": "markdown",
   "metadata": {},
   "source": [
    "Prepared by Benoit Côté (bcote@uvic.ca)\n",
    "\n",
    "This notebook shows how to reformat merger-tree data in order to provide inputs for running GAMMA."
   ]
  },
  {
   "cell_type": "markdown",
   "metadata": {},
   "source": [
    "## 1. Using Consistent Trees with YTree"
   ]
  },
  {
   "cell_type": "markdown",
   "metadata": {},
   "source": [
    "To use the following script, <a href=\"https://ytree.readthedocs.io/en/latest/\">ytree</a> must be installed.  A merger-tree file (e.g., tree_0_0_0.dat) must be provided in the directory."
   ]
  },
  {
   "cell_type": "code",
   "execution_count": 1,
   "metadata": {
    "collapsed": true
   },
   "outputs": [],
   "source": [
    "# Import the code that will reformat the merger tree\n",
    "import merger_tree_ytree as mt\n",
    "\n",
    "# Import ytree, which can read consistent merger-tree files\n",
    "import ytree"
   ]
  },
  {
   "cell_type": "code",
   "execution_count": 2,
   "metadata": {
    "collapsed": false
   },
   "outputs": [
    {
     "name": "stderr",
     "output_type": "stream",
     "text": [
      "Loading tree roots:  87%|████████▋ | 54955548/63480430 [00:00<00:00, 549494429.49it/s]"
     ]
    },
    {
     "name": "stdout",
     "output_type": "stream",
     "text": [
      "Performance will be improved by saving this arbor with \"save_arbor\" and reloading:\n",
      "\t>>> a = ytree.load(\"tree_0_0_0_wise.dat\")\n",
      "\t>>> fn = a.save_arbor()\n",
      "\t>>> a = ytree.load(fn)\n"
     ]
    },
    {
     "name": "stderr",
     "output_type": "stream",
     "text": [
      "Loading tree roots: 100%|██████████| 63480430/63480430 [00:00<00:00, 400325698.09it/s]\n"
     ]
    }
   ],
   "source": [
    "# Read the list of trees \n",
    "arbor = ytree.load('tree_0_0_0.dat')\n",
    "mt.add_descendents(arbor)"
   ]
  },
  {
   "cell_type": "code",
   "execution_count": 3,
   "metadata": {
    "collapsed": true
   },
   "outputs": [],
   "source": [
    "# Select the tree\n",
    "tree = arbor[4]\n",
    "\n",
    "# Get the redshifts, order in decreasing order.\n",
    "# This represents the output steps in the merger tree.\n",
    "redshifts = []\n",
    "for node in tree.nodes:\n",
    "    if not node['redshift'] in redshifts:\n",
    "        redshifts.append(node[\"redshift\"])\n",
    "redshifts = sorted(redshifts)[::-1]\n",
    "\n",
    "# Get the list of times, representing the age of \n",
    "# the universe at the given redshifts\n",
    "times = mt.get_times(redshifts)"
   ]
  },
  {
   "cell_type": "code",
   "execution_count": 4,
   "metadata": {
    "collapsed": true
   },
   "outputs": [],
   "source": [
    "# Convert the tree data into input arrays for GAMMA.\n",
    "br_halo_ID, br_age, br_z, br_t_merge, br_ID_merge,\\\n",
    "    br_m_halo, br_r_vir, br_is_prim =\\\n",
    "        mt.get_branches(tree.nodes, redshifts, times)"
   ]
  },
  {
   "cell_type": "markdown",
   "metadata": {},
   "source": [
    "These arrays are described in the <a href=\"https://github.com/becot85/JINAPyCEE/blob/master/DOC/GAMMA_introduction.ipynb\">GAMMA Introduction</a> notebook."
   ]
  },
  {
   "cell_type": "code",
   "execution_count": null,
   "metadata": {
    "collapsed": true
   },
   "outputs": [],
   "source": []
  }
 ],
 "metadata": {
  "kernelspec": {
   "display_name": "Python 3",
   "language": "python",
   "name": "python3"
  },
  "language_info": {
   "codemirror_mode": {
    "name": "ipython",
    "version": 3
   },
   "file_extension": ".py",
   "mimetype": "text/x-python",
   "name": "python",
   "nbconvert_exporter": "python",
   "pygments_lexer": "ipython3",
   "version": "3.4.8"
  }
 },
 "nbformat": 4,
 "nbformat_minor": 0
}
