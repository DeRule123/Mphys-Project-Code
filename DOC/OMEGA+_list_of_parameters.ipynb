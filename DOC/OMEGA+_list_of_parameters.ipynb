{
 "cells": [
  {
   "cell_type": "markdown",
   "metadata": {},
   "source": [
    "# List of Parameters in OMEGA+"
   ]
  },
  {
   "cell_type": "markdown",
   "metadata": {},
   "source": [
    "Prepared by: Benoit Côté (bcote@uvic.ca)\n",
    "\n",
    "This notebook lists most of the input parameters used in OMEGA+. In particular, it aims to translate the terms in the equations found in <a href=\"http://adsabs.harvard.edu/abs/2018ApJ...859...67C\">Côté et al. (2018)</a> into OMEGA+ parameters.  For an introduction on how to run OMEGA+, please see the <a href=\"https://github.com/becot85/JINAPyCEE/blob/master/DOC/OMEGA%2B_introduction.ipynb\">Introduction</a> notebook.\n",
    "\n",
    "Unless mentionned otherwise, a specific option is automatically switched on by including the relevant parameters when launching an OMEGA+ simulation."
   ]
  },
  {
   "cell_type": "markdown",
   "metadata": {},
   "source": [
    "## 1. Circumgalactic Gas Inflow [M$_\\odot$ yr$^{-1}$]\n",
    "\n",
    "$$\\dot{M}_{\\rm CGM,in} = \\dot{M}_\\mathrm{DM}\\left(\\frac{\\Omega_{\\rm M,0}}{\\Omega_{\\rm b,0}}-1\\right)^{-1}$$\n",
    "\n",
    "By default, the circumgalactic gas will increase when the dark matter mass $M_\\mathrm{DM}$ increases. $\\Omega_{\\rm M,0}$ and $\\Omega_{\\rm b,0}$ are cosmological parameters. If the dark matter mass decreases, the circumgalactic gas will also decrease.\n",
    "\n",
    "* To de-activate this option --> `halo_in_out_on=False`"
   ]
  },
  {
   "cell_type": "markdown",
   "metadata": {},
   "source": [
    "## 2. Galactic Inflow Rate [M$_\\odot$ yr$^{-1}$]"
   ]
  },
  {
   "cell_type": "markdown",
   "metadata": {},
   "source": [
    "See the <a href=\"https://github.com/becot85/JINAPyCEE/blob/master/DOC/OMEGA%2B_defining_gas_inflow.ipynb\">Defining inflow rate</a> notebook for more details and options."
   ]
  },
  {
   "cell_type": "markdown",
   "metadata": {},
   "source": [
    "#### Constant inflow timescale [yr]\n",
    "\n",
    "$$\\dot{M}_{\\rm g,in} = \\frac{M_\\mathrm{CGM}}{\\tau_\\mathrm{inflow}},$$\n",
    "\n",
    "where $M_\\mathrm{CGM}$ and $\\tau_\\mathrm{inflow}$ are the mass of the circumgalactic gas and the inflow timescale, respectively.\n",
    "\n",
    "* $\\tau_\\mathrm{inflow}$ --> `t_inflow`"
   ]
  },
  {
   "cell_type": "markdown",
   "metadata": {},
   "source": [
    "#### Evolving inflow timescale [yr]\n",
    "\n",
    "$$\\tau_\\mathrm{inflow} = 0.1H^{-1}_0C_\\tau (1+z)^{-3\\gamma_\\mathrm{ff}/2},$$\n",
    "\n",
    "where $H_0$ and $z$ are the Hubble constant (current value) and the redshift. $C_\\tau$ is a normalization constant, and $\\gamma_\\mathrm{ff}$ is a free/exploratory parameter to control the redshift dependency. If $\\gamma_\\mathrm{ff}=1$, the inflow timescale becomes directly proportional to the free-fall timescale, as defined by\n",
    "\n",
    "$$\\tau_\\mathrm{ff}=0.1H^{-1}_0(1+z)^{-3/2}.$$\n",
    "\n",
    "* $C_\\tau$ --> `f_t_ff`\n",
    "* $\\gamma_\\mathrm{ff}$ --> `t_ff_index`"
   ]
  },
  {
   "cell_type": "markdown",
   "metadata": {},
   "source": [
    "## 3. Star Formation Rate [M$_\\odot$ yr$^{-1}$]"
   ]
  },
  {
   "cell_type": "markdown",
   "metadata": {},
   "source": [
    "#### Constant star formation efficiency and timescale [yr]\n",
    "\n",
    "$$\\dot{M}_\\star = \\frac{\\epsilon_\\star}{\\tau_\\star}M_\\mathrm{gas},$$\n",
    "\n",
    "where $\\epsilon_\\star$ is the dimensionless star formation efficiency, and $\\tau_\\star$ is the star formation timescale.\n",
    "\n",
    "* $\\epsilon_\\star$ --> `sfe`\n",
    "* $\\tau_\\star$ --> `t_star`"
   ]
  },
  {
   "cell_type": "markdown",
   "metadata": {},
   "source": [
    "#### Evolving star formation efficiency\n",
    "\n",
    "$$ \\epsilon_\\star = \\epsilon_{\\star,0}\\left(\\frac{M_\\mathrm{DM}}{M_\\mathrm{DM,0}}\\right)^{\\gamma_\\star}, $$\n",
    "\n",
    "where $\\epsilon_{\\star,0}$ is a normalization constant, and $\\gamma_\\star$ is a free/exploratory parameter to control the dark matter mass $M_\\mathrm{DM}$ dependency. $M_\\mathrm{DM,0}$ is the final dark matter halo mass at the end of the simulation.\n",
    "\n",
    "* To activate this option --> `sfe_m_dep=True`\n",
    "* $\\epsilon_{\\star,0}$ --> `sfe`\n",
    "* $M_\\mathrm{DM,0}$ --> `m_DM_0`\n",
    "* $\\gamma_\\star$ --> `sfe_m_index`"
   ]
  },
  {
   "cell_type": "markdown",
   "metadata": {},
   "source": [
    "#### Evolving star formation timescale [yr]\n",
    "\n",
    "$$\\tau_\\star = 0.1H^{-1}_0C_\\star (1+z)^{-3\\beta_\\star/2},$$\n",
    "\n",
    "where $C_\\star$ is a normalization constant, and $\\beta_\\star$ is a free/exploratory parameter to control the redshift dependency.\n",
    "\n",
    "* $C_\\star$ --> `f_dyn`\n",
    "* $\\beta_\\star$ --> `t_sf_z_dep`"
   ]
  },
  {
   "cell_type": "markdown",
   "metadata": {},
   "source": [
    "## 4. Galactic Outflow Rate [M$_\\odot$ yr$^{-1}$]"
   ]
  },
  {
   "cell_type": "markdown",
   "metadata": {},
   "source": [
    "See the <a href=\"https://github.com/becot85/JINAPyCEE/blob/master/DOC/OMEGA%2B_defining_gas_outflow_galactic.ipynb\">Defining gas outflow (galactic)</a> notebook for more details."
   ]
  },
  {
   "cell_type": "markdown",
   "metadata": {},
   "source": [
    "#### Constant mass-loading factor\n",
    "\n",
    "$$\\dot{M}_\\mathrm{g,out}=\\eta_\\mathrm{gal}\\dot{M}_\\star$$\n",
    "\n",
    "where $\\eta_\\mathrm{gal}$ is the mass-loading factor.\n",
    "\n",
    "* $\\eta_\\mathrm{gal}$ --> `mass_loading`"
   ]
  },
  {
   "cell_type": "markdown",
   "metadata": {},
   "source": [
    "#### Evolving mass-loading factor (option 1)\n",
    "\n",
    "$$\\eta_\\mathrm{gal}=C_\\eta M^{-\\gamma_\\eta/3}_\\mathrm{DM},$$\n",
    "\n",
    "where $C_\\eta$ is a normalization constant, and $\\gamma_\\eta$ is a free/exploratory parameter to control the dark matter mass dependency.\n",
    "\n",
    "* To activate this option --> `DM_outflow_C17=True, C17_eta_z_dep=False`\n",
    "* $C_\\eta$ --> `mass_loading`\n",
    "* $\\gamma_\\eta$ --> `exp_ml`"
   ]
  },
  {
   "cell_type": "markdown",
   "metadata": {},
   "source": [
    "#### Evolving mass-loading factor (option 2)\n",
    "\n",
    "$$\\eta_\\mathrm{gal}=C_\\eta M^{-\\gamma_\\eta/3}_\\mathrm{DM}(1+z)^{-\\gamma_\\eta/2},$$\n",
    "\n",
    "* To activate this option --> `DM_outflow_C17=True, C17_eta_z_dep=True`\n",
    "* $C_\\eta$ --> `mass_loading`\n",
    "* $\\gamma_\\eta$ --> `exp_ml`"
   ]
  },
  {
   "cell_type": "markdown",
   "metadata": {},
   "source": [
    "## 5. Circumgalactic Outflow Rate [M$_\\odot$ yr$^{-1}$]"
   ]
  },
  {
   "cell_type": "markdown",
   "metadata": {},
   "source": [
    "#### Constant GCM mass-loading factor\n",
    "\n",
    "$$\\dot{M}_\\mathrm{CGM,out}=f_\\eta \\eta_\\mathrm{gal}\\dot{M}_\\star = f_\\eta \\dot{M}_{\\rm g,out}, $$\n",
    "\n",
    "where $f_\\eta$ is the proportional constant that links the circumgalactic outflow to the galactic outflow.\n",
    "\n",
    "* $f_\\eta$ --> `f_halo_to_gal_out`"
   ]
  }
 ],
 "metadata": {
  "kernelspec": {
   "display_name": "Python 3",
   "language": "python",
   "name": "python3"
  },
  "language_info": {
   "codemirror_mode": {
    "name": "ipython",
    "version": 3
   },
   "file_extension": ".py",
   "mimetype": "text/x-python",
   "name": "python",
   "nbconvert_exporter": "python",
   "pygments_lexer": "ipython3",
   "version": "3.4.8"
  }
 },
 "nbformat": 4,
 "nbformat_minor": 0
}
